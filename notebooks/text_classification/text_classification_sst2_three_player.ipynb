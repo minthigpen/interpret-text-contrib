{
 "cells": [
  {
   "cell_type": "markdown",
   "metadata": {},
   "source": [
    "*Copyright (c) Microsoft Corporation. All rights reserved.*\n",
    "\n",
    "*Licensed under the MIT License.*\n",
    "\n",
    "# Text Classification of SST-2 Sentences using a 3-Player Introspective Model"
   ]
  },
  {
   "cell_type": "code",
   "execution_count": null,
   "metadata": {
    "scrolled": true
   },
   "outputs": [],
   "source": [
    "import sys\n",
    "import os\n",
    "import json\n",
    "import pandas as pd\n",
    "import numpy as np\n",
    "import torch\n",
    "import torch.nn as nn\n",
    "\n",
    "from interpret_text.common.dataset.utils_sst2 import load_sst2_pandas_df\n",
    "from interpret_text.three_player_introspective.three_player_introspective_explainer import ThreePlayerIntrospectiveExplainer\n",
    "from interpret_text.common.utils_three_player import GlovePreprocessor, BertPreprocessor, ModelArguments, load_glove_embeddings\n",
    "from interpret_text.widget import ExplanationDashboard"
   ]
  },
  {
   "cell_type": "markdown",
   "metadata": {},
   "source": [
    "## Introduction\n",
    "In this notebook, we train and evaluate a  [three-player explainer](http://people.csail.mit.edu/tommi/papers/YCZJ_EMNLP2019.pdf) model on a subset of the [SST-2](https://nlp.stanford.edu/sentiment/index.html/) dataset. To run this notebook, we used the SST-2 data files provided [here](https://github.com/AcademiaSinicaNLPLab/sentiment_dataset)."
   ]
  },
  {
   "cell_type": "markdown",
   "metadata": {},
   "source": [
    "### Set parameters\n",
    "Here we set some parameters that we use for our modeling task."
   ]
  },
  {
   "cell_type": "code",
   "execution_count": null,
   "metadata": {
    "tags": [
     "parameters"
    ]
   },
   "outputs": [],
   "source": [
    "# if quick run true, skips over embedding, most of model training, and model evaulation; used to quickly test pipeline\n",
    "QUICK_RUN = False\n",
    "model_type = \"RNN\" # currently support either RNN or BERT\n",
    "\n",
    "# data processing parameters\n",
    "DATA_FOLDER = \"../../../data/sst2\"\n",
    "LABEL_COL = \"labels\" \n",
    "TEXT_COL = \"sentences\"\n",
    "token_count_thresh = 1\n",
    "max_sentence_token_count = 70\n",
    "\n",
    "# training procedure parameters\n",
    "model_save_dir = os.path.join(\"..\", \"models\")\n",
    "model_prefix = \"sst2rnpmodel\"\n",
    "cuda = True\n",
    "batch_size = 64\n",
    "if not QUICK_RUN:\n",
    "    save_best_model = True\n",
    "    pre_train_cls = True\n",
    "    num_epochs = 200\n",
    "else:\n",
    "    save_best_model = False\n",
    "    pre_train_cls = False\n",
    "    num_epochs = 1\n",
    "\n",
    "# ModelArguments contains default parameters used internally in the model that can changed\n",
    "args = ModelArguments(cuda, pre_train_cls, batch_size, num_epochs, save_best_model, model_save_dir=model_save_dir, model_prefix=model_prefix)\n",
    "# example of changing an argument\n",
    "args.cuda = True\n",
    "args.lr = 2e-4\n",
    "args.embedding_path = \"\"\n",
    "\n",
    "if model_type == \"RNN\":\n",
    "    # (i.e. not using BERT), load pretrained glove embeddings\n",
    "    # TODO: load glove embedding file in load_glove_embeddings to blob storage\n",
    "    if not QUICK_RUN:\n",
    "        args.embedding_path = load_glove_embeddings(DATA_FOLDER)\n",
    "    else:\n",
    "        args.embedding_path = os.path.join(DATA_FOLDER, \"noEmbeddingFile.txt\")"
   ]
  },
  {
   "cell_type": "markdown",
   "metadata": {},
   "source": [
    "## Read Dataset\n",
    "We start by loading a subset of the data for training and testing."
   ]
  },
  {
   "cell_type": "code",
   "execution_count": null,
   "metadata": {
    "scrolled": true
   },
   "outputs": [],
   "source": [
    "# TODO: load dataset to blob storage\n",
    "train_data = load_sst2_pandas_df('train')\n",
    "test_data = load_sst2_pandas_df('test')\n",
    "all_data = pd.concat([train_data, test_data])\n",
    "if QUICK_RUN:\n",
    "    train_data = train_data.head(batch_size)\n",
    "    test_data = test_data.head(batch_size)\n",
    "X_train = train_data[TEXT_COL]\n",
    "X_test = test_data[TEXT_COL]"
   ]
  },
  {
   "cell_type": "code",
   "execution_count": null,
   "metadata": {},
   "outputs": [],
   "source": [
    "# get all unique labels\n",
    "labels = all_data[LABEL_COL].unique()\n",
    "args.labels = np.array(sorted(labels))\n",
    "args.num_labels = len(labels)"
   ]
  },
  {
   "cell_type": "markdown",
   "metadata": {},
   "source": [
    "## Tokenization and embedding\n",
    "The data is then tokenized and embedded using glove embeddings."
   ]
  },
  {
   "cell_type": "code",
   "execution_count": null,
   "metadata": {},
   "outputs": [],
   "source": [
    "if model_type == \"RNN\":\n",
    "    preprocessor = GlovePreprocessor(all_data[TEXT_COL], token_count_thresh, max_sentence_token_count)\n",
    "if model_type == \"BERT\":\n",
    "    preprocessor = BertPreprocessor()\n",
    "\n",
    "# append labels to tokenizer output\n",
    "df_train = pd.concat([train_data[LABEL_COL], preprocessor.preprocess(X_train)], axis=1)\n",
    "df_test = pd.concat([test_data[LABEL_COL], preprocessor.preprocess(X_test)], axis=1)"
   ]
  },
  {
   "cell_type": "markdown",
   "metadata": {},
   "source": [
    "## Explainer\n",
    "Then, we create and train the explainer."
   ]
  },
  {
   "cell_type": "code",
   "execution_count": null,
   "metadata": {
    "scrolled": false
   },
   "outputs": [],
   "source": [
    "explainer = ThreePlayerIntrospectiveExplainer(args, preprocessor, classifier_type=model_type)\n",
    "classifier = explainer.fit(df_train, df_test, pretrain_cls)"
   ]
  },
  {
   "cell_type": "markdown",
   "metadata": {},
   "source": [
    "We can test the explainer and measure its performance:"
   ]
  },
  {
   "cell_type": "code",
   "execution_count": null,
   "metadata": {},
   "outputs": [
    {
     "name": "stdout",
     "output_type": "stream",
     "text": [
      "Test sparsity:  0.8334719067677765\n",
      "Test accuracy:  0.7693574958813838 % Anti-accuracy:  0.5315760571114773\n"
     ]
    }
   ],
   "source": [
    "if not QUICK_RUN:\n",
    "    explainer.score(df_test)\n",
    "    print(\"Test sparsity: \", explainer.model.avg_sparsity)\n",
    "    print(\"Test accuracy: \", explainer.model.avg_accuracy, \"% Anti-accuracy: \", explainer.model.avg_anti_accuracy)"
   ]
  },
  {
   "cell_type": "code",
   "execution_count": 49,
   "metadata": {},
   "outputs": [],
   "source": [
    "from interpret_text.common.utils_three_player import generate_data\n",
    "from interpret_text.explanation.explanation import _create_local_explanation\n",
    "\n",
    "\n",
    "def explain_local(\n",
    "    explainer, sentence, label, preprocessor, hard_importances=True\n",
    "):\n",
    "    df_label = pd.DataFrame.from_dict({\"labels\": [label]})\n",
    "    df_sentence = pd.concat(\n",
    "        [df_label, preprocessor.preprocess([sentence.lower()])], axis=1\n",
    "    )\n",
    "\n",
    "    batch_dict = generate_data(df_sentence, explainer.args.cuda)\n",
    "    x = batch_dict[\"x\"]\n",
    "    m = batch_dict[\"m\"]\n",
    "    predict_dict = explainer.predict(df_sentence)\n",
    "    predict = predict_dict[\"predict\"].cpu()\n",
    "    zs = predict_dict[\"rationale\"]\n",
    "    if not hard_importances:\n",
    "        zs = explainer.model.get_z_scores(df_sentence)\n",
    "        predict_class_idx = np.argmax(predict)\n",
    "        zs = zs[:, :, predict_class_idx].detach()\n",
    "\n",
    "    zs = np.array(zs.cpu())\n",
    "\n",
    "    # generate human-readable tokens (individual words)\n",
    "    seq_len = int(m.sum().item())\n",
    "    ids = x[:seq_len][0]\n",
    "    tokens = preprocessor.decode_single(ids)\n",
    "\n",
    "    local_explanation = _create_local_explanation(\n",
    "        classification=True,\n",
    "        text_explanation=True,\n",
    "        local_importance_values=zs.flatten(),\n",
    "        method=str(type(explainer.model)),\n",
    "        model_task=\"classification\",\n",
    "        features=tokens,\n",
    "        classes=explainer.labels,\n",
    "    )\n",
    "\n",
    "    return local_explanation\n"
   ]
  },
  {
   "cell_type": "markdown",
   "metadata": {},
   "source": [
    "## Local importances\n",
    "We can display the found local importances (the most and least important words for a given sentence):"
   ]
  },
  {
   "cell_type": "code",
   "execution_count": null,
   "metadata": {
    "scrolled": false
   },
   "outputs": [],
   "source": [
    "# Enter a sentence that needs to be interpreted\n",
    "sentence = \"This great movie was really good, but it could be bad\"\n",
    "label = 0\n",
    "\n",
    "local_explanation = explain_local(explainer, sentence, label, preprocessor, hard_importances=False)"
   ]
  },
  {
   "cell_type": "markdown",
   "metadata": {},
   "source": [
    "## Visualize explanations\n",
    "We can visualize local feature importances as a heatmap over words in the document and view importance values of individual words."
   ]
  },
  {
   "cell_type": "code",
   "execution_count": null,
   "metadata": {},
   "outputs": [],
   "source": [
    "explainer.visualize(local_explanation._local_importance_values, local_explanation._features)"
   ]
  },
  {
   "cell_type": "code",
   "execution_count": null,
   "metadata": {},
   "outputs": [],
   "source": [
    "ExplanationDashboard(local_explanation)"
   ]
  },
  {
   "cell_type": "code",
   "execution_count": null,
   "metadata": {},
   "outputs": [],
   "source": []
  },
  {
   "cell_type": "code",
   "execution_count": null,
   "metadata": {},
   "outputs": [],
   "source": []
  }
 ],
 "metadata": {
  "kernelspec": {
   "display_name": "Python 3",
   "language": "python",
   "name": "python3"
  },
  "language_info": {
   "codemirror_mode": {
    "name": "ipython",
    "version": 3
   },
   "file_extension": ".py",
   "mimetype": "text/x-python",
   "name": "python",
   "nbconvert_exporter": "python",
   "pygments_lexer": "ipython3",
   "version": "3.6.8"
  }
 },
 "nbformat": 4,
 "nbformat_minor": 2
}
