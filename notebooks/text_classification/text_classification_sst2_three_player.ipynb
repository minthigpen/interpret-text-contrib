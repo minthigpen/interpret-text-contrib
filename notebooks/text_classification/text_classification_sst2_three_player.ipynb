{
 "cells": [
  {
   "cell_type": "markdown",
   "metadata": {},
   "source": [
    "*Copyright (c) Microsoft Corporation. All rights reserved.*\n",
    "\n",
    "*Licensed under the MIT License.*\n",
    "\n",
    "# Text Classification of SST-2 Sentences using a 3-Player Model"
   ]
  },
  {
   "cell_type": "code",
   "execution_count": null,
   "metadata": {},
   "outputs": [],
   "source": [
    "import sys\n",
    "import os\n",
    "import json\n",
    "import pandas as pd\n",
    "import numpy as np\n",
    "import torch\n",
    "import torch.nn as nn\n",
    "\n",
    "from interpret_text.three_player_introspective.three_player_introspective_explainer import ThreePlayerIntrospectiveExplainer\n",
    "from interpret_text.common.utils_three_player import load_data, GloveTokenizer\n",
    "from interpret_text.widget import ExplanationDashboard"
   ]
  },
  {
   "cell_type": "markdown",
   "metadata": {},
   "source": [
    "## Introduction\n",
    "In this notebook, we train and evaluate a  [three-player explainer](http://people.csail.mit.edu/tommi/papers/YCZJ_EMNLP2019.pdf) model on a subset of the [SST-2](https://nlp.stanford.edu/sentiment/index.html/) dataset. To run this notebook, we used the SST-2 data files provided [here](https://github.com/AcademiaSinicaNLPLab/sentiment_dataset). You should download files matching data/sst2.binary.* into a folder and point DATA_FOLDER (below) to that folder."
   ]
  },
  {
   "cell_type": "markdown",
   "metadata": {},
   "source": [
    "### Set parameters\n",
    "Here we set some parameters that we use for our modeling task."
   ]
  },
  {
   "cell_type": "code",
   "execution_count": null,
   "metadata": {},
   "outputs": [],
   "source": [
    "# data processing parameters\n",
    "DATA_FOLDER = \"../../../data/sst2\"\n",
    "LABEL_COL = \"labels\" \n",
    "TEXT_COL = \"sentences\"\n",
    "token_count_thresh = 1\n",
    "max_sentence_token_count = 70\n",
    "\n",
    "# training procedure params\n",
    "pre_trained_model_prefix = 'pre_trained_cls.model'\n",
    "save_path = os.path.join(\"..\", \"models\")\n",
    "model_prefix = \"sst2rnpmodel\"\n",
    "save_best_model = True\n",
    "pre_train_cls = True\n",
    "\n",
    "# arguments for the model\n",
    "class Argument():\n",
    "    def __init__(self):\n",
    "        # to initialize classifierModule and introspectionGeneratorModule\n",
    "        self.embedding_dim = 100\n",
    "        self.hidden_dim = 200\n",
    "        self.layer_num = 1\n",
    "        self.z_dim = 2\n",
    "        self.dropout_rate = 0.5\n",
    "\n",
    "        # to init only introspectionGeneratorModule\n",
    "        self.num_labels = 2\n",
    "        self.label_embedding_dim = 400\n",
    "        self.fixed_classifier = True\n",
    "\n",
    "        # to init model\n",
    "        self.fine_tuning = False\n",
    "        self.cuda = False\n",
    "        self.batch_size = 40\n",
    "        self.lambda_sparsity = 1.0\n",
    "        self.lambda_continuity = 1.0\n",
    "        self.lambda_anti = 1.0\n",
    "        self.exploration_rate = 0.05\n",
    "        self.count_tokens = 8\n",
    "        self.count_pieces = 4\n",
    "        self.lambda_acc_gap = 1.2\n",
    "        self.lr=0.001\n",
    "        self.embedding_path = os.path.join(DATA_FOLDER, \"glove.6B.100d.txt\")\n",
    "args = Argument()\n",
    "args_dict = vars(args)"
   ]
  },
  {
   "cell_type": "markdown",
   "metadata": {},
   "source": [
    "## Read Dataset\n",
    "We start by loading a subset of the data for training and testing."
   ]
  },
  {
   "cell_type": "code",
   "execution_count": null,
   "metadata": {
    "scrolled": true
   },
   "outputs": [],
   "source": [
    "# TODO: load dataset to blob storage\n",
    "df_train = load_data(os.path.join(DATA_FOLDER, 'stsa.binary.train'), LABEL_COL, TEXT_COL)\n",
    "df_test = load_data(os.path.join(DATA_FOLDER, 'stsa.binary.test'), LABEL_COL, TEXT_COL)\n",
    "df_all = pd.concat([df_train, df_test])\n",
    "x_train = df_train[TEXT_COL]\n",
    "x_test = df_test[TEXT_COL]\n",
    "y_train = df_train[LABEL_COL]\n",
    "y_test = df_train[LABEL_COL]\n",
    "labels = df_all[LABEL_COL].unique()"
   ]
  },
  {
   "cell_type": "markdown",
   "metadata": {},
   "source": [
    "## Tokenization and embedding\n",
    "The data is then tokenized and embedded using glove embeddings."
   ]
  },
  {
   "cell_type": "code",
   "execution_count": null,
   "metadata": {},
   "outputs": [],
   "source": [
    "tokenizer = GloveTokenizer(df_all[TEXT_COL], token_count_thresh, max_sentence_token_count)\n",
    "word_vocab = tokenizer.word_vocab\n",
    "\n",
    "# append tokenizations to data\n",
    "df_train = pd.concat([df_train, tokenizer.tokenize(x_train)], axis=1)\n",
    "df_test = pd.concat([df_test, tokenizer.tokenize(x_test)], axis=1)\n",
    "df_all = pd.concat([df_train, df_test])\n",
    "x_train = df_train[TEXT_COL]\n",
    "x_test = df_test[TEXT_COL]\n",
    "y_train = df_train[LABEL_COL]\n",
    "y_test = df_train[LABEL_COL]\n",
    "labels = df_all[LABEL_COL].unique()\n",
    "print(df_all)"
   ]
  },
  {
   "cell_type": "markdown",
   "metadata": {},
   "source": [
    "## Explainer\n",
    "Then, we create and train the explainer."
   ]
  },
  {
   "cell_type": "code",
   "execution_count": null,
   "metadata": {
    "scrolled": true
   },
   "outputs": [],
   "source": [
    "explainer = ThreePlayerIntrospectiveExplainer(args, word_vocab)\n",
    "classifier = explainer.fit(df_train, df_test, args.batch_size, num_iteration=100, pretrain_cls=True)"
   ]
  },
  {
   "cell_type": "markdown",
   "metadata": {},
   "source": [
    "We can test the explainer and measure its performance:"
   ]
  },
  {
   "cell_type": "code",
   "execution_count": null,
   "metadata": {},
   "outputs": [],
   "source": [
    "accuracy, anti_accuracy, sparsity = explainer.score(df_test)\n",
    "print(\"Test sparsity: \", sparsity)\n",
    "print(\"Test accuracy: \", accuracy, \"% Anti-accuracy: \", anti_accuracy)"
   ]
  },
  {
   "cell_type": "markdown",
   "metadata": {},
   "source": [
    "## Local importances\n",
    "We can display the found local importances (the most and least important words for a given sentence)"
   ]
  },
  {
   "cell_type": "code",
   "execution_count": null,
   "metadata": {
    "scrolled": true
   },
   "outputs": [],
   "source": [
    "# Enter a sentence that needs to be interpreted\n",
    "sentence = \"This awful movie was really bad\"\n",
    "label = 0\n",
    "\n",
    "# Tokenize the sentence\n",
    "df_sentence = pd.DataFrame.from_dict({TEXT_COL: [sentence], LABEL_COL: [label]})\n",
    "tokenizer = GloveTokenizer(df_sentence[TEXT_COL], token_count_thresh, max_sentence_token_count)\n",
    "df_sentence = pd.concat([df_sentence, tokenizer.tokenize(df_sentence[TEXT_COL])], axis=1)\n",
    "local_explanantion = explainer.explain_local(sentence, df_sentence, np.array([0, 1]), hard_importances=False)\n",
    "\n",
    "# Visualize local feature importances as a heatmap over words in the document\n",
    "# TODO: a less hacky way of getting words\n",
    "explainer.visualize(local_explanantion._local_importance_values, local_explanantion._features)\n",
    "\n",
    "ExplanationDashboard(local_explanantion)"
   ]
  }
 ],
 "metadata": {
  "kernelspec": {
   "display_name": "Python 3",
   "language": "python",
   "name": "python3"
  },
  "language_info": {
   "codemirror_mode": {
    "name": "ipython",
    "version": 3
   },
   "file_extension": ".py",
   "mimetype": "text/x-python",
   "name": "python",
   "nbconvert_exporter": "python",
   "pygments_lexer": "ipython3",
   "version": "3.6.8"
  }
 },
 "nbformat": 4,
 "nbformat_minor": 2
}
